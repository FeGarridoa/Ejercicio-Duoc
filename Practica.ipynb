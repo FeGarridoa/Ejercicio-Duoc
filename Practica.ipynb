{
  "cells": [
    {
      "cell_type": "markdown",
      "metadata": {
        "id": "view-in-github",
        "colab_type": "text"
      },
      "source": [
        "<a href=\"https://colab.research.google.com/github/FeGarridoa/Ejercicio-Duoc/blob/main/Practica.ipynb\" target=\"_parent\"><img src=\"https://colab.research.google.com/assets/colab-badge.svg\" alt=\"Open In Colab\"/></a>"
      ]
    },
    {
      "cell_type": "markdown",
      "metadata": {
        "id": "Hr0J5qIbsL2R"
      },
      "source": [
        "Intento1\n"
      ]
    },
    {
      "cell_type": "code",
      "execution_count": null,
      "metadata": {
        "id": "js6OIRubsZ9l"
      },
      "outputs": [],
      "source": [
        "user1 = \"Sophie\" ;\n",
        "pass1 = \"romita\" ;\n",
        "user2 = \"Felipe\" ;\n",
        "pass2 = \"peluzita\";\n",
        "codigo1 = \"1234\";\n",
        "codigo2 = \"1804\";\n",
        "Usuario = input( \" Ingrese su usurario por favor : \")\n",
        "Clave =   input( \"Ingrese su clave : \")\n",
        "Codigo = input( \"Ingrese codigo de verificacion : \")\n",
        "\n",
        "if Usuario == user1 and  Clave == pass1  and Codigo == codigo1 :\n",
        "  print(\" Bienvenida sophie <3<3 \")\n",
        "elif Usuario == user2 and Clave == pass2 and Codigo == codigo2 :\n",
        "    print(\" Bienvenido Felipe \")\n",
        "else :\n",
        "  print(\" Usuario ,clave o codigo incorrecto \")\n",
        "  print(\" Intente mas tarde \")\n"
      ]
    },
    {
      "cell_type": "code",
      "execution_count": null,
      "metadata": {
        "id": "0NR2KnE9Bmjj"
      },
      "outputs": [],
      "source": [
        "for x in range(1,100):\n",
        "  if (x % 2 == 0):\n",
        "    print('Numero par :',x)\n",
        "  elif (x % 2 == 1):\n",
        "    print('Numero inpar :',x)\n",
        "  else :\n",
        "      print('Su numero no existe :')\n"
      ]
    },
    {
      "cell_type": "code",
      "execution_count": null,
      "metadata": {
        "id": "Am1bGTalFpYU"
      },
      "outputs": [],
      "source": [
        "for x in range(1,100,2):\n",
        "  print(' Su numero es impar :',x)"
      ]
    },
    {
      "cell_type": "code",
      "execution_count": null,
      "metadata": {
        "id": "Xz3X4rGVHkHs"
      },
      "outputs": [],
      "source": [
        "numero = 6\n",
        "suma = 0\n",
        "for divi in range(1,numero):\n",
        "  resto = divi % numero == 6\n",
        "  print('numero :',divi,numero,resto)\n",
        "  if (resto == 0):\n",
        "    print('Este es divisor de :',divi)\n",
        "    suma = divi+suma\n",
        "\n",
        "\n",
        "print('Resultado :',suma)\n",
        "if numero == suma :\n",
        "  print('El numero',numero,'es perfecto')\n",
        "else:\n",
        "    print(' Su numero no es perfecto ')\n"
      ]
    },
    {
      "cell_type": "code",
      "execution_count": null,
      "metadata": {
        "id": "fvVpJNLC8d__"
      },
      "outputs": [],
      "source": [
        "for y in range(1,11):\n",
        "  numerotabla = y\n",
        "  print('*****************************************')\n",
        "  for x in range(1,11):\n",
        "      print(f'{numerotabla}x{x}={numerotabla*x }')\n"
      ]
    },
    {
      "cell_type": "code",
      "execution_count": null,
      "metadata": {
        "id": "pTB9rBtpUi4k"
      },
      "outputs": [],
      "source": [
        "def MenuPrincipal():\n",
        "  print('1.-Quiere Platano = $20c/u')\n",
        "  print('2.-Quiere Naranja = $40c/u')\n",
        "  print('3.-Quiere Manzana = $60c/u')\n",
        "  print('4.-Quiere Durazno = $80c/u')\n",
        "  print('0.- Salir ')\n",
        "\n",
        "sumavendido = 0\n",
        "siga = True\n",
        "while(siga == True ):\n",
        "  MenuPrincipal()\n",
        "Opcion = int(input('Ingrese una opcion : '))\n",
        "if (Opcion==0 ):\n",
        "  siga = False\n",
        "elif(Opcion == 1):\n",
        "  print('Usted eligio platano $ 20')\n",
        "  sumavendido=sumavendido+20\n",
        "elif(Opcion == 2):\n",
        "  print('Usted eligio Naranja $ 40')\n",
        "  sumavendido=sumavendido+40\n",
        "elif(Opcion == 3):\n",
        "  print('Usted eligio Manzana $ 60')\n",
        "  sumavendido=sumavendido+60\n",
        "elif(Opcion == 4):\n",
        "  print('Usted eligio Durazno $ 80')\n",
        "  sumavendido=sumavendido+80\n",
        "else:\n",
        "  print('Error numero incorrecto ')\n",
        "\n",
        "print('Total vendido :',sumavendido)\n",
        "    siga=Fal\n",
        "\n",
        "\n",
        "\n",
        "\n",
        "\n",
        "#print('La opcion elegida es ',Opcion)\n",
        "#if (Opcion < 0):\n",
        " # print(' Error,Ingrese un numero positivo ',Opcion)\n",
        "#else:\n",
        "  #if(Opcion > 4):\n",
        "    #print('Numero fuera de rango '.Opcion )"
      ]
    },
    {
      "cell_type": "code",
      "execution_count": null,
      "metadata": {
        "id": "I6nauFkMGKbT"
      },
      "outputs": [],
      "source": [
        "a = 1\n",
        "while True :\n",
        " print('Miramee estoy programando en Python!!!',a)\n",
        " print('Sigueme y te sigo ')\n",
        " break\n",
        " a+=1\n"
      ]
    },
    {
      "cell_type": "code",
      "source": [
        "import numpy as np"
      ],
      "metadata": {
        "id": "R4rPt-T3bk9o"
      },
      "execution_count": 1,
      "outputs": []
    },
    {
      "cell_type": "code",
      "source": [
        "matrizBus=np.empty((10,4),dtype=object);\n",
        "asiento=0;"
      ],
      "metadata": {
        "id": "kaiXro_qbpfj"
      },
      "execution_count": 2,
      "outputs": []
    },
    {
      "cell_type": "code",
      "source": [
        "\n",
        "\n",
        "matrizBus=np.empty((10,4),dtype=object);\n",
        "\n",
        "asiento=0;\n",
        "for f in range(10):\n",
        "    for c in range(4):\n",
        "        asiento=asiento+1;\n",
        "        matrizBus[f,c]=asiento;\n",
        "\n",
        "print(matrizBus);\n",
        "\n",
        "while True:\n",
        "    fila=int(input(\"Ingrese la fila de su asiento:\"));\n",
        "    columna=int(input(\"Ingrese la columna de su asiento: \"));\n",
        "    matrizBus[fila,columna]='X';\n",
        "    print(matrizBus)\n",
        "    break"
      ],
      "metadata": {
        "id": "ktkrehp2bhH8"
      },
      "execution_count": null,
      "outputs": []
    }
  ],
  "metadata": {
    "colab": {
      "provenance": [],
      "authorship_tag": "ABX9TyNYLoKJKOQjnSJV7//WCcJb",
      "include_colab_link": true
    },
    "kernelspec": {
      "display_name": "Python 3",
      "name": "python3"
    },
    "language_info": {
      "name": "python"
    }
  },
  "nbformat": 4,
  "nbformat_minor": 0
}