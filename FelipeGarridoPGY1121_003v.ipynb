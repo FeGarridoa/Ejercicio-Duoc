{
  "nbformat": 4,
  "nbformat_minor": 0,
  "metadata": {
    "colab": {
      "provenance": [],
      "authorship_tag": "ABX9TyPoq1bFqI2JY6OW5ZtOAK/u",
      "include_colab_link": true
    },
    "kernelspec": {
      "name": "python3",
      "display_name": "Python 3"
    },
    "language_info": {
      "name": "python"
    }
  },
  "cells": [
    {
      "cell_type": "markdown",
      "metadata": {
        "id": "view-in-github",
        "colab_type": "text"
      },
      "source": [
        "<a href=\"https://colab.research.google.com/github/FeGarridoa/Ejercicio-Duoc/blob/main/FelipeGarridoPGY1121_003v.ipynb\" target=\"_parent\"><img src=\"https://colab.research.google.com/assets/colab-badge.svg\" alt=\"Open In Colab\"/></a>"
      ]
    },
    {
      "cell_type": "code",
      "execution_count": 67,
      "metadata": {
        "id": "qM-fKy9ZLZqI"
      },
      "outputs": [],
      "source": [
        "import numpy as np"
      ]
    },
    {
      "cell_type": "code",
      "source": [
        "from numpy.core.multiarray import concatenate\n",
        "compraEntradas=np.empty((100,10),dtype=int)\n",
        "entradasPlatinum=np.array([[1,2,3,4,5,6,7,8,9,10]])\n",
        "entradasPlatinum2=np.array([[11,12,13,14,15,16,17,18,19,20]])\n",
        "entradasgold=[[21,22,23,24,25,26,27,28,29,30,31],[32,33,34,35,36,37,38,39,40,41],[42,43,44,45,46,47,48,49,50]]\n",
        "entradasilver=[[51,52,53,54,55,56,57,58,59,60,61],\n",
        "              [62,63,64,65,66,67,68,69,70,71,72,73,74,75,76,77,80,81],\n",
        "              [82,83,84,85,86,87,88,89,90,91,92,93,94,95,96,97,98,99,100]]\n",
        "listadoasistentes=np.empty((0,3),dtype=object)\n",
        "entradasDisponibles=[]\n",
        "\n",
        "'''entradas=np.array([[1,2,3,4,5,6,7,8,9,10,11,12,13,14,15,16,17,18,19,20,21],\n",
        "                  [22,23,24,25,26,27,28,29,30,31,32,33,34,35,36,37,38,39,40,41],\n",
        "                  [42,43,44,45,46,47,48,49,50,51,52,53,54,55,56,57,58,59,60,61],\n",
        "                  [62,63,64,65,66,67,68,69,70,71,72,73,74,75,76,77,80,81],\n",
        "                  [82,83,84,85,86,87,88,89,90,91,92,93,94,95,96,97,98,99,100]])'''\n",
        "\n",
        "posicion=0\n"
      ],
      "metadata": {
        "id": "ofcKRY9KPiO-"
      },
      "execution_count": 91,
      "outputs": []
    },
    {
      "cell_type": "code",
      "source": [
        "def precios():\n",
        "    while True:\n",
        "      print('******** Precio entradas *********')\n",
        "      print('*'*20)\n",
        "      print(' opcion 1-Platinum $120.000 -Asientos del 1 al 20 ')\n",
        "      print(' opcion 2-Gold     $80.000  -Asientos del 21 al 50 ')\n",
        "      print(' opcion 3-Silver   $50.000   Asientos del 51 al 100')\n",
        "      print('*'*20)\n",
        "\n",
        "      opc=int(input( 'selecione un tipo de entrada' ))\n",
        "\n",
        "      if opc == 1:\n",
        "        platinum=int(input(' Cuantas entradas tipo platino desea comprar ? '))\n",
        "        if platinum<=3:\n",
        "          print(f'Asientos disponibles primera fila {entradasPlatinum},{entradasPlatinum2}')\n",
        "          print(f'El precio de sus entradas es ${platinum*1200}')\n",
        "        elif opc ==2:\n",
        "          gold=int(input(' Cuantas entradas tipo Gold desea comprar ? '))\n",
        "          if gold<=3:\n",
        "            print(f'Asientos disponibles para categoria selecionada{entradasgold}')\n",
        "        elif opc==3:\n",
        "          silver=int(input('Cuantas entradas tipo silver desea comprar ? '))\n",
        "          if silver<=3:\n",
        "              print(f'Asientos disponibles primera fila {entradasilver}')\n"
      ],
      "metadata": {
        "id": "Ixn4owXFWkZb"
      },
      "execution_count": null,
      "outputs": []
    },
    {
      "cell_type": "code",
      "source": [
        "def comprar():\n",
        "  global comprarEntradas,posicion\n",
        "\n",
        "  precios()\n",
        "\n",
        "  while True :\n",
        "    opc=int(input( 'selecione un tipo de entrada' ))\n",
        "\n",
        "    if opc == 1:\n",
        "        platinum=int(input(' Cuantas entradas tipo platino desea comprar ? '))\n",
        "        if platinum<=3:\n",
        "          print()\n",
        "        elif opc ==2:\n",
        "          gold=int(input(' Cuantas entradas tipo Gold desea comprar ? '))\n",
        "        elif opc==3:\n",
        "          silver=int(input('Cuantas entradas tipo silver desea comprar ? '))\n",
        "    else:\n",
        "      break"
      ],
      "metadata": {
        "id": "dAf-FP_INQqe"
      },
      "execution_count": 56,
      "outputs": []
    },
    {
      "cell_type": "code",
      "source": [
        "print(compraEntradas)"
      ],
      "metadata": {
        "id": "5PiUVXfMTws3"
      },
      "execution_count": null,
      "outputs": []
    },
    {
      "cell_type": "code",
      "source": [
        "def asientos_disponibles():\n",
        "\n",
        "  return 0"
      ],
      "metadata": {
        "id": "SygoZVxMOXQh"
      },
      "execution_count": null,
      "outputs": []
    },
    {
      "cell_type": "code",
      "source": [
        "def listadoAsistentes():\n",
        "  global listadoasistentes,posicion\n",
        "\n",
        "\n",
        "\n",
        "  return 0"
      ],
      "metadata": {
        "id": "xw4hVoH4Oq-t"
      },
      "execution_count": null,
      "outputs": []
    },
    {
      "cell_type": "code",
      "source": [
        "def verGanancias():\n",
        "\n",
        "  return 0"
      ],
      "metadata": {
        "id": "cXuz2I1mO-KH"
      },
      "execution_count": null,
      "outputs": []
    },
    {
      "cell_type": "code",
      "source": [
        "def menu():\n",
        "  while True :\n",
        "    print('*'*20)\n",
        "    print(' Menu')\n",
        "    print('*'*20)\n",
        "    print('1.-Comprar entradas')\n",
        "    print('2.-Mostrar ubicaciones disponibles')\n",
        "    print('3.-ver listado de asistentes ')\n",
        "    print('4.-ver Ganancias')\n",
        "    print('5.-Salir')\n",
        "    print('*'*20)\n",
        "    opcion=int(input(' Ingrese una opcion para continuar '))\n",
        "\n",
        "    if opcion==1 :\n",
        "      precios()\n",
        "      comprar()\n",
        "    elif opcion==2:\n",
        "      asientos_disponibles()\n",
        "    elif opcion==3:\n",
        "      listadoAsistentes()\n",
        "    elif opcion==4:\n",
        "       verGanancias()\n",
        "    elif opcion==5:\n",
        "      print(' Usted ha selecionado salir ,muchas gracias por comprar con CREATIVOS.CL')\n",
        "      print(' Felipe Garrido 11/07/2023,version1.0  ')\n",
        "    break\n",
        "  else :\n",
        "      print(' Error opcion no valida ')"
      ],
      "metadata": {
        "id": "Ilcrc5PiQdt-"
      },
      "execution_count": 34,
      "outputs": []
    },
    {
      "cell_type": "code",
      "source": [
        "menu()"
      ],
      "metadata": {
        "id": "KS4kfNFoSzIf"
      },
      "execution_count": null,
      "outputs": []
    },
    {
      "cell_type": "code",
      "source": [
        "print(entradasPlatinum,entradasPlatinum2,entradasgold,entradasilver)"
      ],
      "metadata": {
        "colab": {
          "base_uri": "https://localhost:8080/"
        },
        "id": "jWV-QrDtdwYr",
        "outputId": "a2510c7c-7bd5-4cc7-d622-ad93dd0c62ca"
      },
      "execution_count": 88,
      "outputs": [
        {
          "output_type": "stream",
          "name": "stdout",
          "text": [
            "[[ 1  2  3  4  5  6  7  8  9 10]] [[11 12 13 14 15 16 17 18 19 20]] [[21, 22, 23, 24, 25, 26, 27, 28, 29, 30, 31], [32, 33, 34, 35, 36, 37, 38, 39, 40, 41], [42, 43, 44, 45, 46, 47, 48, 49, 50]] [[51, 52, 53, 54, 55, 56, 57, 58, 59, 60, 61], [62, 63, 64, 65, 66, 67, 68, 69, 70, 71, 72, 73, 74, 75, 76, 77, 80, 81], [82, 83, 84, 85, 86, 87, 88, 89, 90, 91, 92, 93, 94, 95, 96, 97, 98, 99, 100]]\n"
          ]
        }
      ]
    }
  ]
}