{
  "nbformat": 4,
  "nbformat_minor": 0,
  "metadata": {
    "colab": {
      "provenance": [],
      "authorship_tag": "ABX9TyOeC4AkPVGiHmogt3geue7s",
      "include_colab_link": true
    },
    "kernelspec": {
      "name": "python3",
      "display_name": "Python 3"
    },
    "language_info": {
      "name": "python"
    }
  },
  "cells": [
    {
      "cell_type": "markdown",
      "metadata": {
        "id": "view-in-github",
        "colab_type": "text"
      },
      "source": [
        "<a href=\"https://colab.research.google.com/github/FeGarridoa/Ejercicio-Duoc/blob/main/Untitled11.ipynb\" target=\"_parent\"><img src=\"https://colab.research.google.com/assets/colab-badge.svg\" alt=\"Open In Colab\"/></a>"
      ]
    },
    {
      "cell_type": "code",
      "execution_count": null,
      "metadata": {
        "id": "CJXTFX0EiMLM"
      },
      "outputs": [],
      "source": [
        "def agregar_datos(matriz):\n",
        "    nombre = input(\"Ingrese el nombre: \")\n",
        "    apellido = input(\"Ingrese el apellido: \")\n",
        "    edad = input(\"Ingrese la edad: \")\n",
        "    fecha_nacimiento = input(\"Ingrese la fecha de nacimiento: \")\n",
        "\n",
        "    # Agregar los datos a la matriz\n",
        "    matriz.append([nombre, apellido, edad, fecha_nacimiento])\n",
        "\n",
        "    print(\"Datos agregados correctamente.\")\n",
        "\n",
        "def consultar_datos(matriz):\n",
        "    if len(matriz) == 0:\n",
        "        print(\"La matriz está vacía.\")\n",
        "        return\n",
        "\n",
        "    for i, datos in enumerate(matriz):\n",
        "        nombre = datos[0]\n",
        "        apellido = datos[1]\n",
        "        edad = datos[2]\n",
        "        fecha_nacimiento = datos[3]\n",
        "\n",
        "        print(\"Datos\", i+1)\n",
        "        print(\"Nombre:\", nombre)\n",
        "        print(\"Apellido:\", apellido)\n",
        "        print(\"Edad:\", edad)\n",
        "        print(\"Fecha de nacimiento:\", fecha_nacimiento)\n",
        "        print(\"-------------------------\")\n",
        "\n",
        "def mostrar_menu():\n",
        "    print(\"------ Menú de opciones ------\")\n",
        "    print(\"1. Agregar datos\")\n",
        "    print(\"2. Consultar datos\")\n",
        "    print(\"3. Salir\")\n",
        "    print(\"-----------------------------\")\n",
        "\n",
        "# Matriz para almacenar los datos\n",
        "matriz_datos = []\n",
        "\n",
        "while True:\n",
        "    mostrar_menu()\n",
        "\n",
        "    opcion = input(\"Seleccione una opción: \")\n",
        "\n",
        "    if opcion == \"1\":\n",
        "        agregar_datos(matriz_datos)\n",
        "    elif opcion == \"2\":\n",
        "        print(matriz_datos)\n",
        "    elif opcion == \"3\":\n",
        "        print(\"Saliendo del programa...\")\n",
        "        break\n",
        "    else:\n",
        "        print(\"Opción inválida. Intente nuevamente.\")\n"
      ]
    }
  ]
}