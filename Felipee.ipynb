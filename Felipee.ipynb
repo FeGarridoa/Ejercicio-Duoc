{
  "nbformat": 4,
  "nbformat_minor": 0,
  "metadata": {
    "colab": {
      "provenance": [],
      "authorship_tag": "ABX9TyPmoaUxverp9r4OlcHMfQny",
      "include_colab_link": true
    },
    "kernelspec": {
      "name": "python3",
      "display_name": "Python 3"
    },
    "language_info": {
      "name": "python"
    }
  },
  "cells": [
    {
      "cell_type": "markdown",
      "metadata": {
        "id": "view-in-github",
        "colab_type": "text"
      },
      "source": [
        "<a href=\"https://colab.research.google.com/github/FeGarridoa/Ejercicio-Duoc/blob/Felipe/Felipee.ipynb\" target=\"_parent\"><img src=\"https://colab.research.google.com/assets/colab-badge.svg\" alt=\"Open In Colab\"/></a>"
      ]
    },
    {
      "cell_type": "code",
      "execution_count": 1,
      "metadata": {
        "id": "-3X77qpczzP1"
      },
      "outputs": [],
      "source": [
        "import numpy as np"
      ]
    },
    {
      "cell_type": "code",
      "source": [
        "from types import DynamicClassAttribute\n",
        "arreglo =np.empty((0,3),dtype=object)\n",
        "posicion=0"
      ],
      "metadata": {
        "id": "mc1MDeM82EWQ"
      },
      "execution_count": 20,
      "outputs": []
    },
    {
      "cell_type": "code",
      "source": [
        "def grabar():\n",
        "  global arreglo,posicion\n",
        "  while True :\n",
        "    numero_parte=int(input('Ingrese numero de partes'))\n",
        "\n",
        "    if numero_parte>=10:\n",
        "            nombre_producto=input('Ingrese nombre del producto')\n",
        "            precio_producto=int(input('Ingrese precio del producto '))\n",
        "\n",
        "    fila=np.array([[numero_parte,nombre_producto,precio_producto]],dtype=object)\n",
        "    arreglo=np.append(arreglo,fila,axis=0)\n",
        "    posicion+=1\n",
        "    print(' El producto fue grabado correctamente ')\n",
        "    break\n",
        "  else:\n",
        "      print('Error debe ser un numero superior a 10 ')\n"
      ],
      "metadata": {
        "id": "4q7mQrVd0BMA"
      },
      "execution_count": 46,
      "outputs": []
    },
    {
      "cell_type": "code",
      "source": [
        "def buscar():\n",
        "  numero_parte=int(input('Ingrese numero de parte que desea buscar '))\n",
        "\n",
        "\n",
        "  bandera=False\n",
        "\n",
        "\n",
        "  for i in range(posicion):\n",
        "    if arreglo[i,0]==numero_parte:\n",
        "      bandera=True\n",
        "      if arreglo[i,2]>=500:\n",
        "        print(' numero de parte : ',arreglo[i,0])\n",
        "        print(' Nombre producto :', arreglo[i,1])\n",
        "        print(' Precio del producto :',arreglo[i,2])\n",
        "      else:\n",
        "        print('Producto sin stock')\n",
        "    break\n",
        "    if not bandera:\n",
        "     print(' Parte no encontrado ')"
      ],
      "metadata": {
        "id": "b5zaS3tJ0MXC"
      },
      "execution_count": 43,
      "outputs": []
    },
    {
      "cell_type": "code",
      "source": [
        "def imprimir():\n",
        "   print('*'*20)\n",
        "   print( 'Detalles producto ')\n",
        "   for i in range(posicion):\n",
        "      print(' numero de parte : ',arreglo[i,0])\n",
        "      print(' Nombre producto :', arreglo[i,1])\n",
        "      print(' Precio del producto :',arreglo[i,2])"
      ],
      "metadata": {
        "id": "9XqpH7FB0Q6H"
      },
      "execution_count": 47,
      "outputs": []
    },
    {
      "cell_type": "code",
      "source": [
        "def menu():\n",
        "  while True :\n",
        "    print('*'*20)\n",
        "    print(' Menu')\n",
        "    print('*'*20)\n",
        "    print('1.-Grabar parte')\n",
        "    print('2.-buscar parte')\n",
        "    print('3.-Imprimir datos')\n",
        "    print('4.-Salir')\n",
        "    print('*'*20)\n",
        "    opcion=int(input(' Ingrese una opcion para continuar '))\n",
        "\n",
        "    if opcion==1 :\n",
        "      grabar()\n",
        "    elif opcion==2:\n",
        "      buscar()\n",
        "    elif opcion==3:\n",
        "      imprimir()\n",
        "    elif opcion==4:\n",
        "      print(' ha selecionado salir ,Hasta luego')\n",
        "      break\n",
        "    else :\n",
        "      print(' Error opcion no valida ')"
      ],
      "metadata": {
        "id": "_LZNL-Jp0efZ"
      },
      "execution_count": 36,
      "outputs": []
    },
    {
      "cell_type": "code",
      "source": [
        "menu()"
      ],
      "metadata": {
        "id": "jSQfnWKk3Sau"
      },
      "execution_count": null,
      "outputs": []
    },
    {
      "cell_type": "code",
      "source": [
        "arreglo"
      ],
      "metadata": {
        "colab": {
          "base_uri": "https://localhost:8080/"
        },
        "id": "QzHL6nIuCNnd",
        "outputId": "c127e4b1-b23c-44b9-aa68-9a4e69155140"
      },
      "execution_count": 48,
      "outputs": [
        {
          "output_type": "execute_result",
          "data": {
            "text/plain": [
              "array([[400, 'felipe', 0],\n",
              "       [600, 'coffe', 5000]], dtype=object)"
            ]
          },
          "metadata": {},
          "execution_count": 48
        }
      ]
    }
  ]
}